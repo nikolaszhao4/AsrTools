{
 "cells": [
  {
   "cell_type": "code",
   "execution_count": 9,
   "metadata": {},
   "outputs": [],
   "source": [
    "from bk_asr import BcutASR\n",
    "import json"
   ]
  },
  {
   "cell_type": "code",
   "execution_count": 10,
   "metadata": {},
   "outputs": [],
   "source": [
    "audio_file = 'D:/RecordT/微信 媳妇 2024-10-26 15-07-17.m4a'\n",
    "asr = BcutASR(audio_file)\n",
    "json_result = asr.run().to_json()\n",
    "\n"
   ]
  },
  {
   "cell_type": "code",
   "execution_count": 12,
   "metadata": {},
   "outputs": [
    {
     "name": "stdout",
     "output_type": "stream",
     "text": [
      "Data has been saved to output.txt\n"
     ]
    }
   ],
   "source": [
    "# 将JSON数据转换成字符串\n",
    "json_str = json.dumps(json_result, ensure_ascii=False, indent=4)\n",
    "\n",
    "# 指定要保存的TXT文件名\n",
    "filename = 'output.txt'\n",
    "\n",
    "# 写入TXT文件\n",
    "with open(filename, 'w', encoding='utf-8') as file:\n",
    "    # 直接写入JSON字符串\n",
    "    file.write(json_str)\n",
    "\n",
    "print(f\"Data has been saved to {filename}\")"
   ]
  },
  {
   "cell_type": "code",
   "execution_count": 15,
   "metadata": {},
   "outputs": [
    {
     "name": "stdout",
     "output_type": "stream",
     "text": [
      "Created JSON file: 微信 媳妇 2024-10-26 15-07-17.json\n",
      "Processing complete.\n"
     ]
    }
   ],
   "source": [
    "import os\n",
    "import json\n",
    "\n",
    "# 指定Record文件夹路径\n",
    "record_folder = 'D:/RecordT'\n",
    "\n",
    "# 检查Record文件夹是否存在\n",
    "if not os.path.exists(record_folder):\n",
    "    print(f\"The folder '{record_folder}' does not exist.\")\n",
    "else:\n",
    "    # 遍历文件夹中的所有.m4a文件\n",
    "    for filename in os.listdir(record_folder):\n",
    "        if filename.endswith('.m4a'):\n",
    "            # 语音识别\n",
    "            # 使用os.path.join()拼接路径\n",
    "            full_path = os.path.join(record_folder, filename)\n",
    "            json_result = BcutASR(full_path).run().to_json()\n",
    "            \n",
    "            # 创建同名的.json文件\n",
    "            json_filename = os.path.splitext(filename)[0] + '.json'\n",
    "            json_filepath = os.path.join(record_folder, json_filename)\n",
    "            \n",
    "            # 写入一个空的json文件\n",
    "            with open(json_filepath, 'w', encoding='utf-8') as json_file:\n",
    "                json.dump(json_result, json_file, ensure_ascii=False, indent=4)\n",
    "                \n",
    "            print(f\"Created JSON file: {json_filename}\")\n",
    "\n",
    "print(\"Processing complete.\")"
   ]
  },
  {
   "cell_type": "code",
   "execution_count": 16,
   "metadata": {},
   "outputs": [
    {
     "name": "stdout",
     "output_type": "stream",
     "text": [
      "Skipped existing JSON file: 微信 媳妇 2024-10-26 15-07-17.json\n",
      "Processing complete.\n"
     ]
    }
   ],
   "source": [
    "import os\n",
    "import json\n",
    "\n",
    "# 指定Record文件夹路径\n",
    "record_folder = 'D:/RecordT'\n",
    "\n",
    "# 检查Record文件夹是否存在\n",
    "if not os.path.exists(record_folder):\n",
    "    print(f\"The folder '{record_folder}' does not exist.\")\n",
    "else:\n",
    "    # 遍历文件夹中的所有.m4a文件\n",
    "    for filename in os.listdir(record_folder):\n",
    "        if filename.endswith('.m4a'):\n",
    "            # 获取同名的.json文件名\n",
    "            json_filename = os.path.splitext(filename)[0] + '.json'\n",
    "            json_filepath = os.path.join(record_folder, json_filename)\n",
    "            \n",
    "            # 检查是否已存在同名的.json文件\n",
    "            if not os.path.exists(json_filepath):\n",
    "                # 语音识别\n",
    "                # 使用os.path.join()拼接路径\n",
    "                full_path = os.path.join(record_folder, filename)\n",
    "                json_result = BcutASR(full_path).run().to_json()\n",
    "                \n",
    "                # 创建并写入.json文件\n",
    "                with open(json_filepath, 'w', encoding='utf-8') as json_file:\n",
    "                    json.dump(json_result, json_file, ensure_ascii=False, indent=4)\n",
    "                \n",
    "                print(f\"Created JSON file: {json_filename}\")\n",
    "            else:\n",
    "                print(f\"Skipped existing JSON file: {json_filename}\")\n",
    "\n",
    "print(\"Processing complete.\")"
   ]
  },
  {
   "cell_type": "code",
   "execution_count": null,
   "metadata": {},
   "outputs": [],
   "source": []
  }
 ],
 "metadata": {
  "kernelspec": {
   "display_name": "learn_env",
   "language": "python",
   "name": "python3"
  },
  "language_info": {
   "codemirror_mode": {
    "name": "ipython",
    "version": 3
   },
   "file_extension": ".py",
   "mimetype": "text/x-python",
   "name": "python",
   "nbconvert_exporter": "python",
   "pygments_lexer": "ipython3",
   "version": "3.12.3"
  }
 },
 "nbformat": 4,
 "nbformat_minor": 2
}
